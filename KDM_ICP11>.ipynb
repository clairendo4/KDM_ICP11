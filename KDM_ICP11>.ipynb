{
  "nbformat": 4,
  "nbformat_minor": 0,
  "metadata": {
    "colab": {
      "name": "KDM_ICP11>.ipynb",
      "provenance": [],
      "authorship_tag": "ABX9TyNB8AlphSgiWz2yH1nIw+GR",
      "include_colab_link": true
    },
    "kernelspec": {
      "name": "python3",
      "display_name": "Python 3"
    },
    "language_info": {
      "name": "python"
    },
    "accelerator": "GPU"
  },
  "cells": [
    {
      "cell_type": "markdown",
      "metadata": {
        "id": "view-in-github",
        "colab_type": "text"
      },
      "source": [
        "<a href=\"https://colab.research.google.com/github/clairendo4/KDM_ICP11/blob/main/KDM_ICP11%3E.ipynb\" target=\"_parent\"><img src=\"https://colab.research.google.com/assets/colab-badge.svg\" alt=\"Open In Colab\"/></a>"
      ]
    },
    {
      "cell_type": "markdown",
      "metadata": {
        "id": "lzGkzQDccmy1"
      },
      "source": [
        "**1. IMPORTING ALL LIBRARIES NEEDED AND NOTICE WE IMPORT KERAS.DATASET SO WE CAN DOWNLOAD THE DATASET WE WILL USE FOR THIS TASK**"
      ]
    },
    {
      "cell_type": "code",
      "metadata": {
        "id": "DqLkRSwQcWkh"
      },
      "source": [
        "# import libraries and keras dataset\n",
        "\n",
        "\n",
        "from keras.layers import Input, Dense\n",
        "from keras.models import Model\n",
        "from keras.datasets import fashion_mnist\n",
        " \n",
        "import numpy as np\n",
        "import matplotlib.pyplot as plt"
      ],
      "execution_count": 9,
      "outputs": []
    },
    {
      "cell_type": "markdown",
      "metadata": {
        "id": "eWy-4MzGf4jD"
      },
      "source": [
        "\n",
        "Load MNIST fashion  dataset.\n",
        "\n",
        "There is no need to load labels because autoencoders are unsupervised.\n",
        "\n",
        "Rescale our images from 0 – 255 to 0 – 1 and flatten them out."
      ]
    },
    {
      "cell_type": "code",
      "metadata": {
        "id": "uenPEeeecxGp"
      },
      "source": [
        "#Notice that we’re not loading any of the labels because autoencoders are unsupervised\n",
        "(X_train, _), (X_test, _) = fashion_mnist.load_data()\n",
        "# rescale our images from 0 – 255 to 0 – 1 and flatten them out.\n",
        "X_train = X_train.astype('float32') / 255.\n",
        "X_test = X_test.astype('float32') / 255.\n",
        "X_train = X_train.reshape((X_train.shape[0], -1))\n",
        "X_test = X_test.reshape((X_test.shape[0], -1))"
      ],
      "execution_count": 10,
      "outputs": []
    },
    {
      "cell_type": "code",
      "metadata": {
        "colab": {
          "base_uri": "https://localhost:8080/"
        },
        "id": "lBZOIDGigDpS",
        "outputId": "c5f32079-1e3a-47ef-af28-d5326f4d10d6"
      },
      "source": [
        "\n",
        "X_train.shape"
      ],
      "execution_count": 11,
      "outputs": [
        {
          "output_type": "execute_result",
          "data": {
            "text/plain": [
              "(60000, 784)"
            ]
          },
          "metadata": {
            "tags": []
          },
          "execution_count": 11
        }
      ]
    },
    {
      "cell_type": "code",
      "metadata": {
        "colab": {
          "base_uri": "https://localhost:8080/"
        },
        "id": "o4ri6x8JgES1",
        "outputId": "eae376ec-6888-490e-e149-aa82cb6b8bbe"
      },
      "source": [
        "X_test.shape"
      ],
      "execution_count": 12,
      "outputs": [
        {
          "output_type": "execute_result",
          "data": {
            "text/plain": [
              "(10000, 784)"
            ]
          },
          "metadata": {
            "tags": []
          },
          "execution_count": 12
        }
      ]
    },
    {
      "cell_type": "code",
      "metadata": {
        "id": "CpcQNxSUgHNI"
      },
      "source": [
        "INPUT_SIZE = 784\n",
        "ENCODING_SIZE = 64"
      ],
      "execution_count": 13,
      "outputs": []
    },
    {
      "cell_type": "markdown",
      "metadata": {
        "id": "q0qMEjALgLtf"
      },
      "source": [
        "Create autoencoder\n",
        "\n",
        "Use ReLU activation functions\n",
        "\n",
        "create constants for our input size and our encoding size.\n",
        "\n",
        "reduce our input from 784 -> 512 -> 256 -> 128 -> 64, encoder path\n",
        "\n",
        "then expand it back up 64 -> 128 -> 256 -> 512 -> 784, decoder path"
      ]
    },
    {
      "cell_type": "code",
      "metadata": {
        "id": "vNhEz0_wgMum"
      },
      "source": [
        "#reduce our input from 784 -> 512 -> 256 -> 128 -> 64 (encoder path), then expand it back up 64 -> 128 -> 256 -> 512 -> 784(decoder path).\n",
        "# Also notice the relu activation function\n",
        "input_img = Input(shape=(INPUT_SIZE,))\n",
        "encoded = Dense(512, activation='relu')(input_img)\n",
        "encoded = Dense(256, activation='relu')(encoded)\n",
        "encoded = Dense(128, activation='relu')(encoded)\n",
        "encoded = Dense(ENCODING_SIZE, activation='relu')(encoded)\n"
      ],
      "execution_count": 15,
      "outputs": []
    },
    {
      "cell_type": "code",
      "metadata": {
        "id": "OAa4qWyAgSHW"
      },
      "source": [
        "decoded = Dense(128, activation='relu')(encoded)\n",
        "decoded = Dense(256, activation='relu')(decoded)\n",
        "decoded = Dense(512, activation='relu')(decoded)\n",
        "decoded = Dense(INPUT_SIZE, activation='relu')(decoded)"
      ],
      "execution_count": 16,
      "outputs": []
    },
    {
      "cell_type": "code",
      "metadata": {
        "id": "Cs_2PlszgV_l"
      },
      "source": [
        "\n",
        "autoencoder = Model(input_img, decoded)"
      ],
      "execution_count": 17,
      "outputs": []
    },
    {
      "cell_type": "markdown",
      "metadata": {
        "id": "9aX_9B19gdLP"
      },
      "source": [
        "Training the model and then making the prediction\n",
        "\n",
        "Build and train the model.\n",
        "\n",
        "Use the ADAM optimizer and mean squared error loss (the Euclidean distance/loss) between the input and reconstruction\n",
        "\n",
        "encode and decode the test set to see how well model is performing"
      ]
    },
    {
      "cell_type": "code",
      "metadata": {
        "colab": {
          "base_uri": "https://localhost:8080/"
        },
        "id": "AlKLEU6VggCD",
        "outputId": "40275c1f-a149-47be-a493-5f65134a90f1"
      },
      "source": [
        "#using ADAM optimizer and mean squared error loss (the Euclidean distance/loss) between the input and reconstruction\n",
        "autoencoder.compile(optimizer='adam', loss='mean_squared_error',)\n",
        "autoencoder.fit(X_train, X_train, epochs=50, batch_size=256, shuffle=True, validation_split=0.2)"
      ],
      "execution_count": 19,
      "outputs": [
        {
          "output_type": "stream",
          "text": [
            "Epoch 1/50\n",
            "188/188 [==============================] - 9s 47ms/step - loss: 0.0828 - val_loss: 0.0288\n",
            "Epoch 2/50\n",
            "188/188 [==============================] - 9s 46ms/step - loss: 0.0262 - val_loss: 0.0222\n",
            "Epoch 3/50\n",
            "188/188 [==============================] - 9s 46ms/step - loss: 0.0209 - val_loss: 0.0195\n",
            "Epoch 4/50\n",
            "188/188 [==============================] - 9s 46ms/step - loss: 0.0187 - val_loss: 0.0177\n",
            "Epoch 5/50\n",
            "188/188 [==============================] - 9s 46ms/step - loss: 0.0173 - val_loss: 0.0169\n",
            "Epoch 6/50\n",
            "188/188 [==============================] - 9s 46ms/step - loss: 0.0165 - val_loss: 0.0162\n",
            "Epoch 7/50\n",
            "188/188 [==============================] - 9s 46ms/step - loss: 0.0158 - val_loss: 0.0157\n",
            "Epoch 8/50\n",
            "188/188 [==============================] - 9s 46ms/step - loss: 0.0154 - val_loss: 0.0154\n",
            "Epoch 9/50\n",
            "188/188 [==============================] - 9s 46ms/step - loss: 0.0150 - val_loss: 0.0150\n",
            "Epoch 10/50\n",
            "188/188 [==============================] - 9s 46ms/step - loss: 0.0146 - val_loss: 0.0148\n",
            "Epoch 11/50\n",
            "188/188 [==============================] - 9s 46ms/step - loss: 0.0145 - val_loss: 0.0148\n",
            "Epoch 12/50\n",
            "188/188 [==============================] - 9s 47ms/step - loss: 0.0142 - val_loss: 0.0142\n",
            "Epoch 13/50\n",
            "188/188 [==============================] - 9s 46ms/step - loss: 0.0138 - val_loss: 0.0142\n",
            "Epoch 14/50\n",
            "188/188 [==============================] - 9s 47ms/step - loss: 0.0138 - val_loss: 0.0140\n",
            "Epoch 15/50\n",
            "188/188 [==============================] - 9s 47ms/step - loss: 0.0133 - val_loss: 0.0142\n",
            "Epoch 16/50\n",
            "188/188 [==============================] - 9s 47ms/step - loss: 0.0133 - val_loss: 0.0137\n",
            "Epoch 17/50\n",
            "188/188 [==============================] - 9s 47ms/step - loss: 0.0132 - val_loss: 0.0135\n",
            "Epoch 18/50\n",
            "188/188 [==============================] - 9s 47ms/step - loss: 0.0130 - val_loss: 0.0133\n",
            "Epoch 19/50\n",
            "188/188 [==============================] - 9s 46ms/step - loss: 0.0129 - val_loss: 0.0132\n",
            "Epoch 20/50\n",
            "188/188 [==============================] - 9s 47ms/step - loss: 0.0128 - val_loss: 0.0132\n",
            "Epoch 21/50\n",
            "188/188 [==============================] - 9s 46ms/step - loss: 0.0127 - val_loss: 0.0131\n",
            "Epoch 22/50\n",
            "188/188 [==============================] - 9s 47ms/step - loss: 0.0125 - val_loss: 0.0125\n",
            "Epoch 23/50\n",
            "188/188 [==============================] - 9s 46ms/step - loss: 0.0122 - val_loss: 0.0125\n",
            "Epoch 24/50\n",
            "188/188 [==============================] - 9s 47ms/step - loss: 0.0120 - val_loss: 0.0128\n",
            "Epoch 25/50\n",
            "188/188 [==============================] - 9s 47ms/step - loss: 0.0120 - val_loss: 0.0123\n",
            "Epoch 26/50\n",
            "188/188 [==============================] - 9s 47ms/step - loss: 0.0118 - val_loss: 0.0123\n",
            "Epoch 27/50\n",
            "188/188 [==============================] - 9s 46ms/step - loss: 0.0117 - val_loss: 0.0123\n",
            "Epoch 28/50\n",
            "188/188 [==============================] - 9s 46ms/step - loss: 0.0118 - val_loss: 0.0123\n",
            "Epoch 29/50\n",
            "188/188 [==============================] - 9s 47ms/step - loss: 0.0117 - val_loss: 0.0124\n",
            "Epoch 30/50\n",
            "188/188 [==============================] - 9s 48ms/step - loss: 0.0116 - val_loss: 0.0120\n",
            "Epoch 31/50\n",
            "188/188 [==============================] - 9s 48ms/step - loss: 0.0116 - val_loss: 0.0120\n",
            "Epoch 32/50\n",
            "188/188 [==============================] - 9s 47ms/step - loss: 0.0115 - val_loss: 0.0121\n",
            "Epoch 33/50\n",
            "188/188 [==============================] - 9s 47ms/step - loss: 0.0115 - val_loss: 0.0121\n",
            "Epoch 34/50\n",
            "188/188 [==============================] - 9s 46ms/step - loss: 0.0115 - val_loss: 0.0119\n",
            "Epoch 35/50\n",
            "188/188 [==============================] - 9s 46ms/step - loss: 0.0113 - val_loss: 0.0119\n",
            "Epoch 36/50\n",
            "188/188 [==============================] - 9s 45ms/step - loss: 0.0113 - val_loss: 0.0121\n",
            "Epoch 37/50\n",
            "188/188 [==============================] - 9s 47ms/step - loss: 0.0113 - val_loss: 0.0117\n",
            "Epoch 38/50\n",
            "188/188 [==============================] - 9s 47ms/step - loss: 0.0111 - val_loss: 0.0117\n",
            "Epoch 39/50\n",
            "188/188 [==============================] - 9s 47ms/step - loss: 0.0111 - val_loss: 0.0118\n",
            "Epoch 40/50\n",
            "188/188 [==============================] - 9s 47ms/step - loss: 0.0111 - val_loss: 0.0116\n",
            "Epoch 41/50\n",
            "188/188 [==============================] - 9s 47ms/step - loss: 0.0111 - val_loss: 0.0117\n",
            "Epoch 42/50\n",
            "188/188 [==============================] - 9s 46ms/step - loss: 0.0111 - val_loss: 0.0116\n",
            "Epoch 43/50\n",
            "188/188 [==============================] - 9s 46ms/step - loss: 0.0109 - val_loss: 0.0116\n",
            "Epoch 44/50\n",
            "188/188 [==============================] - 8s 45ms/step - loss: 0.0110 - val_loss: 0.0116\n",
            "Epoch 45/50\n",
            "188/188 [==============================] - 9s 47ms/step - loss: 0.0109 - val_loss: 0.0115\n",
            "Epoch 46/50\n",
            "188/188 [==============================] - 9s 46ms/step - loss: 0.0108 - val_loss: 0.0113\n",
            "Epoch 47/50\n",
            "188/188 [==============================] - 9s 47ms/step - loss: 0.0107 - val_loss: 0.0113\n",
            "Epoch 48/50\n",
            "188/188 [==============================] - 9s 46ms/step - loss: 0.0105 - val_loss: 0.0112\n",
            "Epoch 49/50\n",
            "188/188 [==============================] - 9s 47ms/step - loss: 0.0105 - val_loss: 0.0113\n",
            "Epoch 50/50\n",
            "188/188 [==============================] - 9s 46ms/step - loss: 0.0106 - val_loss: 0.0112\n"
          ],
          "name": "stdout"
        },
        {
          "output_type": "execute_result",
          "data": {
            "text/plain": [
              "<tensorflow.python.keras.callbacks.History at 0x7fd278c06cd0>"
            ]
          },
          "metadata": {
            "tags": []
          },
          "execution_count": 19
        }
      ]
    },
    {
      "cell_type": "code",
      "metadata": {
        "id": "40AI6BMKgkMr"
      },
      "source": [
        "#After our autoencoder has trained, we can try to encode and decode the test set to see how well our autoencoder can compress\n",
        "decoded_imgs = autoencoder.predict(X_test)"
      ],
      "execution_count": 20,
      "outputs": []
    },
    {
      "cell_type": "code",
      "metadata": {
        "colab": {
          "base_uri": "https://localhost:8080/",
          "height": 294
        },
        "id": "GOcIasaDgk3a",
        "outputId": "a2204c3d-5d5e-4e88-9e1b-a31055254e72"
      },
      "source": [
        "plt.figure(figsize=(20, 4))\n",
        "for i in range(10):\n",
        "    # original\n",
        "    plt.subplot(2, 10, i + 1)\n",
        "    plt.imshow(X_test[i].reshape(28, 28))\n",
        "    plt.gray()\n",
        "    plt.axis('off')\n",
        " \n",
        "    # reconstruction\n",
        "    plt.subplot(2, 10, i + 1 + 10)\n",
        "    plt.imshow(decoded_imgs[i].reshape(28, 28))\n",
        "    plt.gray()\n",
        "    plt.axis('off')\n",
        " \n",
        "plt.tight_layout()\n",
        "plt.show()"
      ],
      "execution_count": 21,
      "outputs": [
        {
          "output_type": "display_data",
          "data": {
            "image/png": "[encoded data removed]",
            "text/plain": [
              "<Figure size 1440x288 with 20 Axes>"
            ]
          },
          "metadata": {
            "tags": [],
            "needs_background": "light"
          }
        }
      ]
    },
    {
      "cell_type": "markdown",
      "metadata": {
        "id": "VezzILLmgqKw"
      },
      "source": [
        "CNN\n",
        "\n",
        "The Problem: MNIST digit classification\n",
        "\n",
        "We’re going to tackle a classic introductory Computer Vision problem: MNIST handwritten digit classification. It’s simple: given an image, classify it as a digit\n",
        "\n",
        "Each image in the MNIST dataset is 28x28 and contains a centered, grayscale digit. Our CNN will take an image and output one of 10 possible classes (one for each digit)\n",
        "\n",
        "First of all, import all necessary packages"
      ]
    },
    {
      "cell_type": "code",
      "metadata": {
        "id": "95MrR7oPgqzo"
      },
      "source": [
        "import numpy as np\n",
        "import tensorflow as tf\n",
        "from keras.datasets import fashion_mnist\n",
        "from keras.models import Sequential\n",
        "from keras.layers import Conv2D, MaxPooling2D, Dense, Flatten\n",
        "from keras.utils import to_categorical"
      ],
      "execution_count": 22,
      "outputs": []
    },
    {
      "cell_type": "code",
      "metadata": {
        "id": "gapbypx5gtCR"
      },
      "source": [
        "(train_images, train_labels), (test_images, test_labels) = fashion_mnist.load_data()"
      ],
      "execution_count": 23,
      "outputs": []
    },
    {
      "cell_type": "markdown",
      "metadata": {
        "id": "EIuxVBUugxtV"
      },
      "source": [
        "\n",
        "Before we begin, we’ll normalize the image pixel values from [0, 255] to [-0.5, 0.5]\n",
        "\n",
        "This will make our network easier to train (using smaller, centered values usually leads to better results).\n",
        "\n",
        "We’ll also reshape each image from (28, 28) to (28, 28, 1) because Keras requires the third dimension. (1 stands for color scheme, which is grey scale in this case)."
      ]
    },
    {
      "cell_type": "code",
      "metadata": {
        "id": "uLN-YGqKgvBb"
      },
      "source": [
        "# Normalize the images.\n",
        "train_images = (train_images / 255) - 0.5\n",
        "test_images = (test_images / 255) - 0.5"
      ],
      "execution_count": 24,
      "outputs": []
    },
    {
      "cell_type": "code",
      "metadata": {
        "id": "LAK1oMgYgYup"
      },
      "source": [
        "# Reshape the images.\n",
        "train_images = np.expand_dims(train_images, axis=3)\n",
        "test_images = np.expand_dims(test_images, axis=3)"
      ],
      "execution_count": 25,
      "outputs": []
    },
    {
      "cell_type": "markdown",
      "metadata": {
        "id": "QwV34D3Wg3Um"
      },
      "source": [
        "Keras model is either built using the Sequential class, which represents a linear stack of layers, or the functional Model class, which is more customizable.\n",
        "\n",
        "We’ll be using the simpler Sequential model, since our CNN will be a linear stack of layers.\n",
        "\n",
        "num_filters, filter_size, and pool_size are self-explanatory variables that set the hyperparameters for our CNN.\n",
        "\n",
        "The first layer in any Sequential model must specify the input_shape, so we do so on Conv2D.\n",
        "\n",
        "Once this input shape is specified, Keras will automatically infer the shapes of inputs for later layers.\n",
        "\n",
        "The output Softmax layer has 10 nodes, one for each class"
      ]
    },
    {
      "cell_type": "code",
      "metadata": {
        "id": "kKKh4SSGg5kk"
      },
      "source": [
        "num_filters = 8\n",
        "filter_size = 3\n",
        "pool_size = 2"
      ],
      "execution_count": 26,
      "outputs": []
    },
    {
      "cell_type": "code",
      "metadata": {
        "id": "X7P7AM7mg6aZ"
      },
      "source": [
        "# Build the model.\n",
        "model = Sequential([\n",
        "  Conv2D(num_filters, filter_size, input_shape=(28, 28, 1)),\n",
        "  MaxPooling2D(pool_size=pool_size),\n",
        "  Flatten(),\n",
        "  Dense(10, activation='softmax'),\n",
        "])"
      ],
      "execution_count": 27,
      "outputs": []
    },
    {
      "cell_type": "markdown",
      "metadata": {
        "id": "03gzMRNig-XR"
      },
      "source": [
        "Before we can begin training, we need to configure the training process. We decide 3 key factors during the compilation step:\n",
        "\n",
        "The optimizer. We’ll stick with a pretty good default: the Adam gradient-based optimizer. Keras has many other optimizers you can look into as well.\n",
        "\n",
        "The loss function. Since we’re using a Softmax output layer, we’ll use the Cross-Entropy loss. Keras distinguishes between binary_crossentropy (2 classes) and categorical_crossentropy (>2 classes), so we’ll use the latter.\n",
        "\n",
        "A list of metrics. Since this is a classification problem, we’ll just have Keras report on the accuracy metric."
      ]
    },
    {
      "cell_type": "code",
      "metadata": {
        "id": "WqGZylinhGps"
      },
      "source": [
        "# Compile the model.\n",
        "model.compile(\n",
        "  'adam',\n",
        "  loss='categorical_crossentropy',\n",
        "  metrics=['accuracy'],\n",
        ")"
      ],
      "execution_count": 28,
      "outputs": []
    },
    {
      "cell_type": "markdown",
      "metadata": {
        "id": "RE15NdJ_hIuS"
      },
      "source": [
        "Training a model in Keras literally consists only of calling fit() and specifying some parameters. There are a lot of possible parameters, but we’ll only supply these:\n",
        "\n",
        "The training data (images and labels), commonly known as X and Y, respectively.\n",
        "\n",
        "The number of epochs (iterations over the entire dataset) to train for.\n",
        "\n",
        "The validation data (or test data), which is used during training to periodically measure the network’s performance against data it hasn’t seen before.\n",
        "\n",
        "There’s one thing we have to be careful about:\n",
        "\n",
        "Keras expects the training targets to be 10-dimensional vectors, since there are 10 nodes in our Softmax output layer. Right now, our train_labels and test_labels arrays contain single integers representing the class for each image\n",
        "\n",
        "Conveniently, Keras has a utility method that fixes this exact issue: to_categorical: It turns our array of class integers into an array of one-hot vectors instead. For example, 2 would become [0, 0, 1, 0, 0, 0, 0, 0, 0, 0] (it’s zero-indexed)"
      ]
    },
    {
      "cell_type": "code",
      "metadata": {
        "colab": {
          "base_uri": "https://localhost:8080/"
        },
        "id": "L81IfICahKl7",
        "outputId": "7903902f-bb7c-4f72-bf80-6dff028990fe"
      },
      "source": [
        "# Train the model.\n",
        "model.fit(\n",
        "  train_images,\n",
        "  to_categorical(train_labels),\n",
        "  epochs=30,\n",
        "  validation_data=(test_images, to_categorical(test_labels)),\n",
        ")"
      ],
      "execution_count": 30,
      "outputs": [
        {
          "output_type": "stream",
          "text": [
            "Epoch 1/30\n",
            "1875/1875 [==============================] - 19s 10ms/step - loss: 0.6438 - accuracy: 0.7791 - val_loss: 0.4201 - val_accuracy: 0.8520\n",
            "Epoch 2/30\n",
            "1875/1875 [==============================] - 19s 10ms/step - loss: 0.3950 - accuracy: 0.8615 - val_loss: 0.3851 - val_accuracy: 0.8689\n",
            "Epoch 3/30\n",
            "1875/1875 [==============================] - 19s 10ms/step - loss: 0.3576 - accuracy: 0.8771 - val_loss: 0.3669 - val_accuracy: 0.8705\n",
            "Epoch 4/30\n",
            "1875/1875 [==============================] - 19s 10ms/step - loss: 0.3325 - accuracy: 0.8845 - val_loss: 0.3572 - val_accuracy: 0.8734\n",
            "Epoch 5/30\n",
            "1875/1875 [==============================] - 19s 10ms/step - loss: 0.3200 - accuracy: 0.8897 - val_loss: 0.3457 - val_accuracy: 0.8758\n",
            "Epoch 6/30\n",
            "1875/1875 [==============================] - 19s 10ms/step - loss: 0.3148 - accuracy: 0.8885 - val_loss: 0.3452 - val_accuracy: 0.8787\n",
            "Epoch 7/30\n",
            "1875/1875 [==============================] - 19s 10ms/step - loss: 0.2965 - accuracy: 0.8965 - val_loss: 0.3407 - val_accuracy: 0.8776\n",
            "Epoch 8/30\n",
            "1875/1875 [==============================] - 19s 10ms/step - loss: 0.2961 - accuracy: 0.8952 - val_loss: 0.3354 - val_accuracy: 0.8814\n",
            "Epoch 9/30\n",
            "1875/1875 [==============================] - 19s 10ms/step - loss: 0.2808 - accuracy: 0.9004 - val_loss: 0.3337 - val_accuracy: 0.8797\n",
            "Epoch 10/30\n",
            "1875/1875 [==============================] - 18s 10ms/step - loss: 0.2756 - accuracy: 0.9024 - val_loss: 0.3304 - val_accuracy: 0.8836\n",
            "Epoch 11/30\n",
            "1875/1875 [==============================] - 18s 10ms/step - loss: 0.2801 - accuracy: 0.9013 - val_loss: 0.3371 - val_accuracy: 0.8809\n",
            "Epoch 12/30\n",
            "1875/1875 [==============================] - 18s 10ms/step - loss: 0.2699 - accuracy: 0.9050 - val_loss: 0.3310 - val_accuracy: 0.8820\n",
            "Epoch 13/30\n",
            "1875/1875 [==============================] - 18s 10ms/step - loss: 0.2657 - accuracy: 0.9050 - val_loss: 0.3243 - val_accuracy: 0.8835\n",
            "Epoch 14/30\n",
            "1875/1875 [==============================] - 19s 10ms/step - loss: 0.2603 - accuracy: 0.9080 - val_loss: 0.3398 - val_accuracy: 0.8785\n",
            "Epoch 15/30\n",
            "1875/1875 [==============================] - 18s 10ms/step - loss: 0.2596 - accuracy: 0.9077 - val_loss: 0.3258 - val_accuracy: 0.8840\n",
            "Epoch 16/30\n",
            "1875/1875 [==============================] - 18s 10ms/step - loss: 0.2506 - accuracy: 0.9112 - val_loss: 0.3259 - val_accuracy: 0.8854\n",
            "Epoch 17/30\n",
            "1875/1875 [==============================] - 19s 10ms/step - loss: 0.2497 - accuracy: 0.9101 - val_loss: 0.3227 - val_accuracy: 0.8846\n",
            "Epoch 18/30\n",
            "1875/1875 [==============================] - 19s 10ms/step - loss: 0.2447 - accuracy: 0.9128 - val_loss: 0.3318 - val_accuracy: 0.8829\n",
            "Epoch 19/30\n",
            "1875/1875 [==============================] - 18s 10ms/step - loss: 0.2444 - accuracy: 0.9129 - val_loss: 0.3291 - val_accuracy: 0.8862\n",
            "Epoch 20/30\n",
            "1875/1875 [==============================] - 18s 9ms/step - loss: 0.2402 - accuracy: 0.9169 - val_loss: 0.3278 - val_accuracy: 0.8847\n",
            "Epoch 21/30\n",
            "1875/1875 [==============================] - 18s 10ms/step - loss: 0.2374 - accuracy: 0.9164 - val_loss: 0.3262 - val_accuracy: 0.8844\n",
            "Epoch 22/30\n",
            "1875/1875 [==============================] - 18s 9ms/step - loss: 0.2366 - accuracy: 0.9162 - val_loss: 0.3274 - val_accuracy: 0.8879\n",
            "Epoch 23/30\n",
            "1875/1875 [==============================] - 18s 10ms/step - loss: 0.2321 - accuracy: 0.9176 - val_loss: 0.3342 - val_accuracy: 0.8867\n",
            "Epoch 24/30\n",
            "1875/1875 [==============================] - 18s 10ms/step - loss: 0.2318 - accuracy: 0.9174 - val_loss: 0.3339 - val_accuracy: 0.8848\n",
            "Epoch 25/30\n",
            "1875/1875 [==============================] - 19s 10ms/step - loss: 0.2251 - accuracy: 0.9204 - val_loss: 0.3258 - val_accuracy: 0.8866\n",
            "Epoch 26/30\n",
            "1875/1875 [==============================] - 18s 10ms/step - loss: 0.2287 - accuracy: 0.9191 - val_loss: 0.3343 - val_accuracy: 0.8842\n",
            "Epoch 27/30\n",
            "1875/1875 [==============================] - 18s 10ms/step - loss: 0.2241 - accuracy: 0.9231 - val_loss: 0.3453 - val_accuracy: 0.8822\n",
            "Epoch 28/30\n",
            "1875/1875 [==============================] - 18s 10ms/step - loss: 0.2258 - accuracy: 0.9189 - val_loss: 0.3329 - val_accuracy: 0.8848\n",
            "Epoch 29/30\n",
            "1875/1875 [==============================] - 18s 10ms/step - loss: 0.2203 - accuracy: 0.9212 - val_loss: 0.3312 - val_accuracy: 0.8854\n",
            "Epoch 30/30\n",
            "1875/1875 [==============================] - 18s 10ms/step - loss: 0.2196 - accuracy: 0.9224 - val_loss: 0.3271 - val_accuracy: 0.8887\n"
          ],
          "name": "stdout"
        },
        {
          "output_type": "execute_result",
          "data": {
            "text/plain": [
              "<tensorflow.python.keras.callbacks.History at 0x7fd276d28810>"
            ]
          },
          "metadata": {
            "tags": []
          },
          "execution_count": 30
        }
      ]
    },
    {
      "cell_type": "markdown",
      "metadata": {
        "id": "x9GlG4jUhM7A"
      },
      "source": [
        "We pass an array of inputs to predict() and it returns an array of outputs.\n",
        "\n",
        "The output of our network is 10 probabilities (because of softmax), so we’ll use np.argmax() to turn those into actual digits."
      ]
    },
    {
      "cell_type": "code",
      "metadata": {
        "id": "tNX7EBoxhPuJ"
      },
      "source": [
        "# Predict on the first 6 test images.\n",
        "predictions = model.predict(test_images[:6])"
      ],
      "execution_count": 38,
      "outputs": []
    },
    {
      "cell_type": "code",
      "metadata": {
        "colab": {
          "base_uri": "https://localhost:8080/"
        },
        "id": "-kPRRt_lhRn8",
        "outputId": "8e32e772-542f-49f6-a96f-58e8dc255d16"
      },
      "source": [
        "\n",
        "# Print our model's predictions.\n",
        "print(\"These are the model predictions :\")\n",
        "print(np.argmax(predictions, axis=1)) # [9, 2, 1, 1, 6,1]\n",
        "print(\"\\n\")"
      ],
      "execution_count": 39,
      "outputs": [
        {
          "output_type": "stream",
          "text": [
            "These are the model predictions :\n",
            "[9 2 1 1 6 1]\n",
            "\n",
            "\n"
          ],
          "name": "stdout"
        }
      ]
    },
    {
      "cell_type": "code",
      "metadata": {
        "colab": {
          "base_uri": "https://localhost:8080/"
        },
        "id": "fsWeOzZChTqL",
        "outputId": "2089be11-7dcd-4b04-b635-db4e2b23423f"
      },
      "source": [
        "# Check our predictions against the ground truths.\n",
        "print(\"These are the corresponding labels :\")\n",
        "print(test_labels[:6]) # [9, 2, 1, 1, 6, 1]"
      ],
      "execution_count": 37,
      "outputs": [
        {
          "output_type": "stream",
          "text": [
            "These are the corresponding labels :\n",
            "[9 2 1 1 6 1]\n"
          ],
          "name": "stdout"
        }
      ]
    }
  ]
}